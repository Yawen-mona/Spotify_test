{
 "cells": [
  {
   "cell_type": "code",
   "execution_count": 12,
   "id": "6635e8ca-f7d3-4e7e-b769-f9495b564894",
   "metadata": {},
   "outputs": [],
   "source": [
    "import spotipy\n",
    "import json\n",
    "import webbrowser\n",
    "import urllib.request\n",
    "import spotipy.util as util"
   ]
  },
  {
   "cell_type": "code",
   "execution_count": 13,
   "id": "95a6880d-e0e5-41fd-8a9e-038e3248d5c5",
   "metadata": {},
   "outputs": [
    {
     "name": "stdout",
     "output_type": "stream",
     "text": [
      "6783e57e78934619a83142715242910\n"
     ]
    }
   ],
   "source": [
    "with open('weather.txt','r') as weather_file:\n",
    "    weather_key = weather_file.read()\n",
    "\n",
    "print(weather_key)"
   ]
  },
  {
   "cell_type": "code",
   "execution_count": 14,
   "id": "9197af88-928c-4120-959b-67d63356b946",
   "metadata": {},
   "outputs": [],
   "source": [
    "url = f\"http://api.weatherapi.com/v1/current.json?key=6783e57e78934619a83142715242910&q=London&aqi=no\""
   ]
  },
  {
   "cell_type": "code",
   "execution_count": 15,
   "id": "f03bdf3f-7c03-4f43-9a7a-7df6a5463525",
   "metadata": {},
   "outputs": [],
   "source": [
    "request = urllib.request.Request(url)"
   ]
  },
  {
   "cell_type": "code",
   "execution_count": 16,
   "id": "27d6793c-4e24-4533-8d4e-dc0b66caba0e",
   "metadata": {},
   "outputs": [],
   "source": [
    "response = urllib.request.urlopen(request)"
   ]
  },
  {
   "cell_type": "code",
   "execution_count": 17,
   "id": "f60ef4df-1ec6-41a8-a16d-faf2df5a6188",
   "metadata": {},
   "outputs": [
    {
     "name": "stdout",
     "output_type": "stream",
     "text": [
      "<http.client.HTTPResponse object at 0x000001D2DFBA6530>\n"
     ]
    }
   ],
   "source": [
    "print(response)"
   ]
  },
  {
   "cell_type": "code",
   "execution_count": 18,
   "id": "e8bc65d9-6a35-46e8-88a9-ff0b346e6917",
   "metadata": {},
   "outputs": [],
   "source": [
    "weather_json = json.loads(response.read())"
   ]
  },
  {
   "cell_type": "code",
   "execution_count": 19,
   "id": "40005f32-5df2-4a39-96bc-4a7a49bb3285",
   "metadata": {},
   "outputs": [
    {
     "name": "stdout",
     "output_type": "stream",
     "text": [
      "{'location': {'name': 'London', 'region': 'City of London, Greater London', 'country': 'United Kingdom', 'lat': 51.5171, 'lon': -0.1062, 'tz_id': 'Europe/London', 'localtime_epoch': 1730215454, 'localtime': '2024-10-29 15:24'}, 'current': {'last_updated_epoch': 1730214900, 'last_updated': '2024-10-29 15:15', 'temp_c': 15.1, 'temp_f': 59.2, 'is_day': 1, 'condition': {'text': 'Overcast', 'icon': '//cdn.weatherapi.com/weather/64x64/day/122.png', 'code': 1009}, 'wind_mph': 3.1, 'wind_kph': 5.0, 'wind_degree': 259, 'wind_dir': 'W', 'pressure_mb': 1024.0, 'pressure_in': 30.24, 'precip_mm': 0.0, 'precip_in': 0.0, 'humidity': 82, 'cloud': 50, 'feelslike_c': 15.1, 'feelslike_f': 59.2, 'windchill_c': 15.1, 'windchill_f': 59.1, 'heatindex_c': 14.7, 'heatindex_f': 58.4, 'dewpoint_c': 10.0, 'dewpoint_f': 50.0, 'vis_km': 10.0, 'vis_miles': 6.0, 'uv': 0.5, 'gust_mph': 4.9, 'gust_kph': 8.0}}\n"
     ]
    }
   ],
   "source": [
    "print(weather_json)"
   ]
  },
  {
   "cell_type": "code",
   "execution_count": 21,
   "id": "89288a79-b58d-4845-9194-b5520aeab9c2",
   "metadata": {},
   "outputs": [
    {
     "name": "stdout",
     "output_type": "stream",
     "text": [
      "Overcast\n"
     ]
    }
   ],
   "source": [
    "forecast = weather_json['current']['condition']['text']\n",
    "print(forecast)"
   ]
  },
  {
   "cell_type": "code",
   "execution_count": 22,
   "id": "aac03b38-bad0-4808-a49c-0346cd2b7b83",
   "metadata": {},
   "outputs": [],
   "source": [
    "with open('APIexample.json','r') as spotify_file:\n",
    "    tokens = json.load(spotify_file)"
   ]
  },
  {
   "cell_type": "code",
   "execution_count": 23,
   "id": "c1e915e4-4ad3-4802-926d-2bd8106868cf",
   "metadata": {},
   "outputs": [
    {
     "name": "stdout",
     "output_type": "stream",
     "text": [
      "{'username': 'Mona Chen', 'client_id': '937e2510865a4d758394db0ce9e2b2c6', 'client_secret': '5bc32758f4644a56bc98aaf5ad2fb1d5', 'redirect': 'https://google.com'}\n"
     ]
    }
   ],
   "source": [
    "print(tokens)"
   ]
  },
  {
   "cell_type": "code",
   "execution_count": 32,
   "id": "0cb831fd-1d69-4452-9043-5bd48b541050",
   "metadata": {},
   "outputs": [],
   "source": [
    "client_id = tokens['client_id']\n",
    "client_secret = tokens['client_secret']\n",
    "redirectURI = tokens['redirect']\n",
    "username = tokens['username']"
   ]
  },
  {
   "cell_type": "code",
   "execution_count": 33,
   "id": "c1a187f2-b25a-4980-8fd3-757a8bf9c913",
   "metadata": {},
   "outputs": [
    {
     "name": "stdin",
     "output_type": "stream",
     "text": [
      "Enter the URL you were redirected to:  https://www.google.com/?code=AQCLJeB60PZPosi6dZxqDYQ7JUvNRcFNyFoYNyJq4jpIH8ruMnvltk5kxVCzOBZMdFI2vhT3o9AdkMbsk3RsaWntKiiX_SyPOTfRE7csKjS5VgdOdAkeERzKFKsxj2LDwwunwIqpM3Ko0HNAnxmnJz01CRh55742uKGbJAvWzAPFTp9bE-VdlagmRhu3AHFduxboDadsUFQj27_lMdtuXFrV-5N-JtDQ-VtuKj6IVjCFXJBwjhSwsgEW_qT6Gj5g8uadzLE9bcjNzJBaf8LZhgjPrdGYbgI\n"
     ]
    }
   ],
   "source": [
    "# for more information on scoping\n",
    "# https://developer.spotify.com/documentation/web-api/concepts/scopes\n",
    "scope = 'user-read-private user-read-playback-state user-modify-playback-state playlist-modify-public'\n",
    "token = util.prompt_for_user_token(username, scope, client_id=client_id,\n",
    "                           client_secret=client_secret,\n",
    "                           redirect_uri=redirectURI)"
   ]
  },
  {
   "cell_type": "code",
   "execution_count": 34,
   "id": "f400c18a-101c-4b66-bcbf-755355684d8a",
   "metadata": {},
   "outputs": [],
   "source": [
    "sp =spotipy.Spotify(auth=token)"
   ]
  },
  {
   "cell_type": "code",
   "execution_count": 35,
   "id": "5320fe33-fbaf-480e-8365-049b9504bc0a",
   "metadata": {},
   "outputs": [
    {
     "name": "stdout",
     "output_type": "stream",
     "text": [
      "{'devices': [{'id': '951e0594827afaa9248c3ce8c91b6236b2c57100', 'is_active': False, 'is_private_session': False, 'is_restricted': False, 'name': 'Web Player (Microsoft Edge)', 'supports_volume': True, 'type': 'Computer', 'volume_percent': 100}]}\n"
     ]
    }
   ],
   "source": [
    "devices =sp.devices()\n",
    "print(devices)"
   ]
  },
  {
   "cell_type": "code",
   "execution_count": 36,
   "id": "0db23348-0e85-4624-85df-52b921f8f09c",
   "metadata": {},
   "outputs": [
    {
     "name": "stdout",
     "output_type": "stream",
     "text": [
      "951e0594827afaa9248c3ce8c91b6236b2c57100\n"
     ]
    }
   ],
   "source": [
    "deviceID = devices['devices'][0]['id']\n",
    "print(deviceID)"
   ]
  },
  {
   "cell_type": "code",
   "execution_count": 42,
   "id": "7969fc3e-46f1-4204-8333-9377234554cb",
   "metadata": {},
   "outputs": [
    {
     "name": "stdout",
     "output_type": "stream",
     "text": [
      "{'album': {'album_type': 'album', 'artists': [{'external_urls': {'spotify': 'https://open.spotify.com/artist/0HT4Y9hhNdkrCEE2tKokzO'}, 'href': 'https://api.spotify.com/v1/artists/0HT4Y9hhNdkrCEE2tKokzO', 'id': '0HT4Y9hhNdkrCEE2tKokzO', 'name': 'William Cas', 'type': 'artist', 'uri': 'spotify:artist:0HT4Y9hhNdkrCEE2tKokzO'}], 'available_markets': ['AR', 'AU', 'AT', 'BE', 'BO', 'BR', 'BG', 'CA', 'CL', 'CO', 'CR', 'CY', 'CZ', 'DK', 'DO', 'DE', 'EC', 'EE', 'SV', 'FI', 'FR', 'GR', 'GT', 'HN', 'HK', 'HU', 'IS', 'IE', 'IT', 'LV', 'LT', 'LU', 'MY', 'MT', 'MX', 'NL', 'NZ', 'NI', 'NO', 'PA', 'PY', 'PE', 'PH', 'PL', 'PT', 'SG', 'SK', 'ES', 'SE', 'CH', 'TW', 'TR', 'UY', 'US', 'GB', 'AD', 'LI', 'MC', 'ID', 'JP', 'TH', 'VN', 'RO', 'IL', 'ZA', 'SA', 'AE', 'BH', 'QA', 'OM', 'KW', 'EG', 'MA', 'DZ', 'TN', 'LB', 'JO', 'PS', 'IN', 'BY', 'KZ', 'MD', 'UA', 'AL', 'BA', 'HR', 'ME', 'MK', 'RS', 'SI', 'KR', 'BD', 'PK', 'LK', 'GH', 'KE', 'NG', 'TZ', 'UG', 'AG', 'AM', 'BS', 'BB', 'BZ', 'BT', 'BW', 'BF', 'CV', 'CW', 'DM', 'FJ', 'GM', 'GE', 'GD', 'GW', 'GY', 'HT', 'JM', 'KI', 'LS', 'LR', 'MW', 'MV', 'ML', 'MH', 'FM', 'NA', 'NR', 'NE', 'PW', 'PG', 'PR', 'WS', 'SM', 'ST', 'SN', 'SC', 'SL', 'SB', 'KN', 'LC', 'VC', 'SR', 'TL', 'TO', 'TT', 'TV', 'VU', 'AZ', 'BN', 'BI', 'KH', 'CM', 'TD', 'KM', 'GQ', 'SZ', 'GA', 'GN', 'KG', 'LA', 'MO', 'MR', 'MN', 'NP', 'RW', 'TG', 'UZ', 'ZW', 'BJ', 'MG', 'MU', 'MZ', 'AO', 'CI', 'DJ', 'ZM', 'CD', 'CG', 'IQ', 'LY', 'TJ', 'VE', 'ET', 'XK'], 'external_urls': {'spotify': 'https://open.spotify.com/album/6nr6Mm0lx30yZrfJbbw680'}, 'href': 'https://api.spotify.com/v1/albums/6nr6Mm0lx30yZrfJbbw680', 'id': '6nr6Mm0lx30yZrfJbbw680', 'images': [{'height': 640, 'url': 'https://i.scdn.co/image/ab67616d0000b27367a12e1d0d24543b538e7eae', 'width': 640}, {'height': 300, 'url': 'https://i.scdn.co/image/ab67616d00001e0267a12e1d0d24543b538e7eae', 'width': 300}, {'height': 64, 'url': 'https://i.scdn.co/image/ab67616d0000485167a12e1d0d24543b538e7eae', 'width': 64}], 'name': 'Window Weather', 'release_date': '2020-05-15', 'release_date_precision': 'day', 'total_tracks': 11, 'type': 'album', 'uri': 'spotify:album:6nr6Mm0lx30yZrfJbbw680'}, 'artists': [{'external_urls': {'spotify': 'https://open.spotify.com/artist/0HT4Y9hhNdkrCEE2tKokzO'}, 'href': 'https://api.spotify.com/v1/artists/0HT4Y9hhNdkrCEE2tKokzO', 'id': '0HT4Y9hhNdkrCEE2tKokzO', 'name': 'William Cas', 'type': 'artist', 'uri': 'spotify:artist:0HT4Y9hhNdkrCEE2tKokzO'}], 'available_markets': ['AR', 'AU', 'AT', 'BE', 'BO', 'BR', 'BG', 'CA', 'CL', 'CO', 'CR', 'CY', 'CZ', 'DK', 'DO', 'DE', 'EC', 'EE', 'SV', 'FI', 'FR', 'GR', 'GT', 'HN', 'HK', 'HU', 'IS', 'IE', 'IT', 'LV', 'LT', 'LU', 'MY', 'MT', 'MX', 'NL', 'NZ', 'NI', 'NO', 'PA', 'PY', 'PE', 'PH', 'PL', 'PT', 'SG', 'SK', 'ES', 'SE', 'CH', 'TW', 'TR', 'UY', 'US', 'GB', 'AD', 'LI', 'MC', 'ID', 'JP', 'TH', 'VN', 'RO', 'IL', 'ZA', 'SA', 'AE', 'BH', 'QA', 'OM', 'KW', 'EG', 'MA', 'DZ', 'TN', 'LB', 'JO', 'PS', 'IN', 'BY', 'KZ', 'MD', 'UA', 'AL', 'BA', 'HR', 'ME', 'MK', 'RS', 'SI', 'KR', 'BD', 'PK', 'LK', 'GH', 'KE', 'NG', 'TZ', 'UG', 'AG', 'AM', 'BS', 'BB', 'BZ', 'BT', 'BW', 'BF', 'CV', 'CW', 'DM', 'FJ', 'GM', 'GE', 'GD', 'GW', 'GY', 'HT', 'JM', 'KI', 'LS', 'LR', 'MW', 'MV', 'ML', 'MH', 'FM', 'NA', 'NR', 'NE', 'PW', 'PG', 'PR', 'WS', 'SM', 'ST', 'SN', 'SC', 'SL', 'SB', 'KN', 'LC', 'VC', 'SR', 'TL', 'TO', 'TT', 'TV', 'VU', 'AZ', 'BN', 'BI', 'KH', 'CM', 'TD', 'KM', 'GQ', 'SZ', 'GA', 'GN', 'KG', 'LA', 'MO', 'MR', 'MN', 'NP', 'RW', 'TG', 'UZ', 'ZW', 'BJ', 'MG', 'MU', 'MZ', 'AO', 'CI', 'DJ', 'ZM', 'CD', 'CG', 'IQ', 'LY', 'TJ', 'VE', 'ET', 'XK'], 'disc_number': 1, 'duration_ms': 196736, 'explicit': False, 'external_ids': {'isrc': 'QM24S2000797'}, 'external_urls': {'spotify': 'https://open.spotify.com/track/63JygVQGiBmLBDQD2H1XN5'}, 'href': 'https://api.spotify.com/v1/tracks/63JygVQGiBmLBDQD2H1XN5', 'id': '63JygVQGiBmLBDQD2H1XN5', 'is_local': False, 'name': 'Overcast', 'popularity': 5, 'preview_url': 'https://p.scdn.co/mp3-preview/92df14064422a76b53531527fb5440c143f91925?cid=937e2510865a4d758394db0ce9e2b2c6', 'track_number': 9, 'type': 'track', 'uri': 'spotify:track:63JygVQGiBmLBDQD2H1XN5'}\n"
     ]
    }
   ],
   "source": [
    "track_results = sp.search(q=forecast, type='track', limit=50)\n",
    "song_data = track_results['tracks']['items']\n",
    "print(song_data[10])"
   ]
  },
  {
   "cell_type": "code",
   "execution_count": null,
   "id": "96b88c65-83c6-4cab-b3ee-1b01e54ee577",
   "metadata": {},
   "outputs": [],
   "source": []
  }
 ],
 "metadata": {
  "kernelspec": {
   "display_name": "Python 3 (ipykernel)",
   "language": "python",
   "name": "python3"
  },
  "language_info": {
   "codemirror_mode": {
    "name": "ipython",
    "version": 3
   },
   "file_extension": ".py",
   "mimetype": "text/x-python",
   "name": "python",
   "nbconvert_exporter": "python",
   "pygments_lexer": "ipython3",
   "version": "3.12.7"
  }
 },
 "nbformat": 4,
 "nbformat_minor": 5
}
