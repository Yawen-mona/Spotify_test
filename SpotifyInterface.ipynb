{
 "cells": [
  {
   "cell_type": "code",
   "execution_count": 12,
   "id": "6635e8ca-f7d3-4e7e-b769-f9495b564894",
   "metadata": {},
   "outputs": [],
   "source": [
    "import spotipy\n",
    "import json\n",
    "import webbrowser\n",
    "import urllib.request\n",
    "import spotipy.util as util"
   ]
  },
  {
   "cell_type": "code",
   "execution_count": 13,
   "id": "95a6880d-e0e5-41fd-8a9e-038e3248d5c5",
   "metadata": {},
   "outputs": [
    {
     "name": "stdout",
     "output_type": "stream",
     "text": [
      "6783e57e78934619a83142715242910\n"
     ]
    }
   ],
   "source": [
    "with open('weather.txt','r') as weather_file:\n",
    "    weather_key = weather_file.read()\n",
    "\n",
    "print(weather_key)"
   ]
  },
  {
   "cell_type": "code",
   "execution_count": 14,
   "id": "9197af88-928c-4120-959b-67d63356b946",
   "metadata": {},
   "outputs": [],
   "source": [
    "url = f\"http://api.weatherapi.com/v1/current.json?key=6783e57e78934619a83142715242910&q=London&aqi=no\""
   ]
  },
  {
   "cell_type": "code",
   "execution_count": 15,
   "id": "f03bdf3f-7c03-4f43-9a7a-7df6a5463525",
   "metadata": {},
   "outputs": [],
   "source": [
    "request = urllib.request.Request(url)"
   ]
  },
  {
   "cell_type": "code",
   "execution_count": 16,
   "id": "27d6793c-4e24-4533-8d4e-dc0b66caba0e",
   "metadata": {},
   "outputs": [],
   "source": [
    "response = urllib.request.urlopen(request)"
   ]
  },
  {
   "cell_type": "code",
   "execution_count": 17,
   "id": "f60ef4df-1ec6-41a8-a16d-faf2df5a6188",
   "metadata": {},
   "outputs": [
    {
     "name": "stdout",
     "output_type": "stream",
     "text": [
      "<http.client.HTTPResponse object at 0x000001D2DFBA6530>\n"
     ]
    }
   ],
   "source": [
    "print(response)"
   ]
  },
  {
   "cell_type": "code",
   "execution_count": 18,
   "id": "e8bc65d9-6a35-46e8-88a9-ff0b346e6917",
   "metadata": {},
   "outputs": [],
   "source": [
    "weather_json = json.loads(response.read())"
   ]
  },
  {
   "cell_type": "code",
   "execution_count": 19,
   "id": "40005f32-5df2-4a39-96bc-4a7a49bb3285",
   "metadata": {},
   "outputs": [
    {
     "name": "stdout",
     "output_type": "stream",
     "text": [
      "{'location': {'name': 'London', 'region': 'City of London, Greater London', 'country': 'United Kingdom', 'lat': 51.5171, 'lon': -0.1062, 'tz_id': 'Europe/London', 'localtime_epoch': 1730215454, 'localtime': '2024-10-29 15:24'}, 'current': {'last_updated_epoch': 1730214900, 'last_updated': '2024-10-29 15:15', 'temp_c': 15.1, 'temp_f': 59.2, 'is_day': 1, 'condition': {'text': 'Overcast', 'icon': '//cdn.weatherapi.com/weather/64x64/day/122.png', 'code': 1009}, 'wind_mph': 3.1, 'wind_kph': 5.0, 'wind_degree': 259, 'wind_dir': 'W', 'pressure_mb': 1024.0, 'pressure_in': 30.24, 'precip_mm': 0.0, 'precip_in': 0.0, 'humidity': 82, 'cloud': 50, 'feelslike_c': 15.1, 'feelslike_f': 59.2, 'windchill_c': 15.1, 'windchill_f': 59.1, 'heatindex_c': 14.7, 'heatindex_f': 58.4, 'dewpoint_c': 10.0, 'dewpoint_f': 50.0, 'vis_km': 10.0, 'vis_miles': 6.0, 'uv': 0.5, 'gust_mph': 4.9, 'gust_kph': 8.0}}\n"
     ]
    }
   ],
   "source": [
    "print(weather_json)"
   ]
  },
  {
   "cell_type": "code",
   "execution_count": 21,
   "id": "89288a79-b58d-4845-9194-b5520aeab9c2",
   "metadata": {},
   "outputs": [
    {
     "name": "stdout",
     "output_type": "stream",
     "text": [
      "Overcast\n"
     ]
    }
   ],
   "source": [
    "forecast = weather_json['current']['condition']['text']\n",
    "print(forecast)"
   ]
  },
  {
   "cell_type": "code",
   "execution_count": 22,
   "id": "aac03b38-bad0-4808-a49c-0346cd2b7b83",
   "metadata": {},
   "outputs": [],
   "source": [
    "with open('APIexample.json','r') as spotify_file:\n",
    "    tokens = json.load(spotify_file)"
   ]
  },
  {
   "cell_type": "code",
   "execution_count": 23,
   "id": "c1e915e4-4ad3-4802-926d-2bd8106868cf",
   "metadata": {},
   "outputs": [
    {
     "name": "stdout",
     "output_type": "stream",
     "text": [
      "{'username': 'Mona Chen', 'client_id': '937e2510865a4d758394db0ce9e2b2c6', 'client_secret': '5bc32758f4644a56bc98aaf5ad2fb1d5', 'redirect': 'https://google.com'}\n"
     ]
    }
   ],
   "source": [
    "print(tokens)"
   ]
  },
  {
   "cell_type": "code",
   "execution_count": null,
   "id": "0cb831fd-1d69-4452-9043-5bd48b541050",
   "metadata": {},
   "outputs": [],
   "source": []
  }
 ],
 "metadata": {
  "kernelspec": {
   "display_name": "Python 3 (ipykernel)",
   "language": "python",
   "name": "python3"
  },
  "language_info": {
   "codemirror_mode": {
    "name": "ipython",
    "version": 3
   },
   "file_extension": ".py",
   "mimetype": "text/x-python",
   "name": "python",
   "nbconvert_exporter": "python",
   "pygments_lexer": "ipython3",
   "version": "3.12.7"
  }
 },
 "nbformat": 4,
 "nbformat_minor": 5
}
