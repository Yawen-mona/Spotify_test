{
 "cells": [
  {
   "cell_type": "code",
   "execution_count": 86,
   "id": "6635e8ca-f7d3-4e7e-b769-f9495b564894",
   "metadata": {},
   "outputs": [],
   "source": [
    "import spotipy\n",
    "import json\n",
    "import webbrowser\n",
    "import urllib.request\n",
    "import spotipy.util as util"
   ]
  },
  {
   "cell_type": "code",
   "execution_count": 87,
   "id": "95a6880d-e0e5-41fd-8a9e-038e3248d5c5",
   "metadata": {},
   "outputs": [
    {
     "name": "stdout",
     "output_type": "stream",
     "text": [
      "6783e57e78934619a83142715242910\n"
     ]
    }
   ],
   "source": [
    "with open('weather.txt','r') as weather_file:\n",
    "    weather_key = weather_file.read()\n",
    "\n",
    "print(weather_key)"
   ]
  },
  {
   "cell_type": "code",
   "execution_count": 88,
   "id": "9197af88-928c-4120-959b-67d63356b946",
   "metadata": {},
   "outputs": [],
   "source": [
    "url = f\"http://api.weatherapi.com/v1/current.json?key=6783e57e78934619a83142715242910&q=London&aqi=no\""
   ]
  },
  {
   "cell_type": "code",
   "execution_count": 89,
   "id": "f03bdf3f-7c03-4f43-9a7a-7df6a5463525",
   "metadata": {},
   "outputs": [],
   "source": [
    "request = urllib.request.Request(url)"
   ]
  },
  {
   "cell_type": "code",
   "execution_count": 90,
   "id": "27d6793c-4e24-4533-8d4e-dc0b66caba0e",
   "metadata": {},
   "outputs": [],
   "source": [
    "response = urllib.request.urlopen(request)"
   ]
  },
  {
   "cell_type": "code",
   "execution_count": 91,
   "id": "f60ef4df-1ec6-41a8-a16d-faf2df5a6188",
   "metadata": {},
   "outputs": [
    {
     "name": "stdout",
     "output_type": "stream",
     "text": [
      "<http.client.HTTPResponse object at 0x000001D2DF5E9B10>\n"
     ]
    }
   ],
   "source": [
    "print(response)"
   ]
  },
  {
   "cell_type": "code",
   "execution_count": 92,
   "id": "e8bc65d9-6a35-46e8-88a9-ff0b346e6917",
   "metadata": {},
   "outputs": [],
   "source": [
    "weather_json = json.loads(response.read())"
   ]
  },
  {
   "cell_type": "code",
   "execution_count": 93,
   "id": "40005f32-5df2-4a39-96bc-4a7a49bb3285",
   "metadata": {},
   "outputs": [
    {
     "name": "stdout",
     "output_type": "stream",
     "text": [
      "{'location': {'name': 'London', 'region': 'City of London, Greater London', 'country': 'United Kingdom', 'lat': 51.5171, 'lon': -0.1062, 'tz_id': 'Europe/London', 'localtime_epoch': 1730220158, 'localtime': '2024-10-29 16:42'}, 'current': {'last_updated_epoch': 1730219400, 'last_updated': '2024-10-29 16:30', 'temp_c': 14.1, 'temp_f': 57.4, 'is_day': 0, 'condition': {'text': 'Overcast', 'icon': '//cdn.weatherapi.com/weather/64x64/night/122.png', 'code': 1009}, 'wind_mph': 3.4, 'wind_kph': 5.4, 'wind_degree': 271, 'wind_dir': 'W', 'pressure_mb': 1025.0, 'pressure_in': 30.27, 'precip_mm': 0.0, 'precip_in': 0.0, 'humidity': 88, 'cloud': 100, 'feelslike_c': 14.3, 'feelslike_f': 57.8, 'windchill_c': 14.7, 'windchill_f': 58.4, 'heatindex_c': 14.4, 'heatindex_f': 58.0, 'dewpoint_c': 10.0, 'dewpoint_f': 50.1, 'vis_km': 10.0, 'vis_miles': 6.0, 'uv': 0.1, 'gust_mph': 5.5, 'gust_kph': 8.9}}\n"
     ]
    }
   ],
   "source": [
    "print(weather_json)"
   ]
  },
  {
   "cell_type": "code",
   "execution_count": 94,
   "id": "89288a79-b58d-4845-9194-b5520aeab9c2",
   "metadata": {},
   "outputs": [
    {
     "name": "stdout",
     "output_type": "stream",
     "text": [
      "Overcast\n"
     ]
    }
   ],
   "source": [
    "forecast = weather_json['current']['condition']['text']\n",
    "print(forecast)"
   ]
  },
  {
   "cell_type": "code",
   "execution_count": 95,
   "id": "aac03b38-bad0-4808-a49c-0346cd2b7b83",
   "metadata": {},
   "outputs": [],
   "source": [
    "with open('APIexample.json','r') as spotify_file:\n",
    "    tokens = json.load(spotify_file)"
   ]
  },
  {
   "cell_type": "code",
   "execution_count": 96,
   "id": "c1e915e4-4ad3-4802-926d-2bd8106868cf",
   "metadata": {},
   "outputs": [
    {
     "name": "stdout",
     "output_type": "stream",
     "text": [
      "{'username': '31ajvtsyyhvd6spqbdqcwpeejddy', 'client_id': '937e2510865a4d758394db0ce9e2b2c6', 'client_secret': '5bc32758f4644a56bc98aaf5ad2fb1d5', 'redirect': 'https://google.com'}\n"
     ]
    }
   ],
   "source": [
    "print(tokens)"
   ]
  },
  {
   "cell_type": "code",
   "execution_count": 97,
   "id": "0cb831fd-1d69-4452-9043-5bd48b541050",
   "metadata": {},
   "outputs": [],
   "source": [
    "client_id = tokens['client_id']\n",
    "client_secret = tokens['client_secret']\n",
    "redirectURI = tokens['redirect']\n",
    "username = tokens['username']"
   ]
  },
  {
   "cell_type": "code",
   "execution_count": 101,
   "id": "c1a187f2-b25a-4980-8fd3-757a8bf9c913",
   "metadata": {},
   "outputs": [],
   "source": [
    "# for more information on scoping\n",
    "# https://developer.spotify.com/documentation/web-api/concepts/scopes\n",
    "scope = 'user-read-private user-read-playback-state user-modify-playback-state playlist-modify-public'\n",
    "token = util.prompt_for_user_token(username, scope, client_id=client_id,\n",
    "                           client_secret=client_secret,\n",
    "                           redirect_uri=redirectURI)"
   ]
  },
  {
   "cell_type": "code",
   "execution_count": 102,
   "id": "f400c18a-101c-4b66-bcbf-755355684d8a",
   "metadata": {},
   "outputs": [],
   "source": [
    "sp =spotipy.Spotify(auth=token)"
   ]
  },
  {
   "cell_type": "code",
   "execution_count": 103,
   "id": "5320fe33-fbaf-480e-8365-049b9504bc0a",
   "metadata": {},
   "outputs": [
    {
     "name": "stdout",
     "output_type": "stream",
     "text": [
      "{'devices': [{'id': 'd1a0882b19547d05b0644c164dfd4b614f6083e7', 'is_active': False, 'is_private_session': False, 'is_restricted': False, 'name': 'LAPTOP-CUMJ1IHO', 'supports_volume': True, 'type': 'Computer', 'volume_percent': 100}]}\n"
     ]
    }
   ],
   "source": [
    "devices =sp.devices()\n",
    "print(devices)"
   ]
  },
  {
   "cell_type": "code",
   "execution_count": 104,
   "id": "0db23348-0e85-4624-85df-52b921f8f09c",
   "metadata": {},
   "outputs": [
    {
     "name": "stdout",
     "output_type": "stream",
     "text": [
      "d1a0882b19547d05b0644c164dfd4b614f6083e7\n"
     ]
    }
   ],
   "source": [
    "deviceID = devices['devices'][0]['id']\n",
    "print(deviceID)"
   ]
  },
  {
   "cell_type": "code",
   "execution_count": 105,
   "id": "7969fc3e-46f1-4204-8333-9377234554cb",
   "metadata": {},
   "outputs": [
    {
     "name": "stdout",
     "output_type": "stream",
     "text": [
      "{'album': {'album_type': 'album', 'artists': [{'external_urls': {'spotify': 'https://open.spotify.com/artist/0HT4Y9hhNdkrCEE2tKokzO'}, 'href': 'https://api.spotify.com/v1/artists/0HT4Y9hhNdkrCEE2tKokzO', 'id': '0HT4Y9hhNdkrCEE2tKokzO', 'name': 'William Cas', 'type': 'artist', 'uri': 'spotify:artist:0HT4Y9hhNdkrCEE2tKokzO'}], 'available_markets': ['AR', 'AU', 'AT', 'BE', 'BO', 'BR', 'BG', 'CA', 'CL', 'CO', 'CR', 'CY', 'CZ', 'DK', 'DO', 'DE', 'EC', 'EE', 'SV', 'FI', 'FR', 'GR', 'GT', 'HN', 'HK', 'HU', 'IS', 'IE', 'IT', 'LV', 'LT', 'LU', 'MY', 'MT', 'MX', 'NL', 'NZ', 'NI', 'NO', 'PA', 'PY', 'PE', 'PH', 'PL', 'PT', 'SG', 'SK', 'ES', 'SE', 'CH', 'TW', 'TR', 'UY', 'US', 'GB', 'AD', 'LI', 'MC', 'ID', 'JP', 'TH', 'VN', 'RO', 'IL', 'ZA', 'SA', 'AE', 'BH', 'QA', 'OM', 'KW', 'EG', 'MA', 'DZ', 'TN', 'LB', 'JO', 'PS', 'IN', 'BY', 'KZ', 'MD', 'UA', 'AL', 'BA', 'HR', 'ME', 'MK', 'RS', 'SI', 'KR', 'BD', 'PK', 'LK', 'GH', 'KE', 'NG', 'TZ', 'UG', 'AG', 'AM', 'BS', 'BB', 'BZ', 'BT', 'BW', 'BF', 'CV', 'CW', 'DM', 'FJ', 'GM', 'GE', 'GD', 'GW', 'GY', 'HT', 'JM', 'KI', 'LS', 'LR', 'MW', 'MV', 'ML', 'MH', 'FM', 'NA', 'NR', 'NE', 'PW', 'PG', 'PR', 'WS', 'SM', 'ST', 'SN', 'SC', 'SL', 'SB', 'KN', 'LC', 'VC', 'SR', 'TL', 'TO', 'TT', 'TV', 'VU', 'AZ', 'BN', 'BI', 'KH', 'CM', 'TD', 'KM', 'GQ', 'SZ', 'GA', 'GN', 'KG', 'LA', 'MO', 'MR', 'MN', 'NP', 'RW', 'TG', 'UZ', 'ZW', 'BJ', 'MG', 'MU', 'MZ', 'AO', 'CI', 'DJ', 'ZM', 'CD', 'CG', 'IQ', 'LY', 'TJ', 'VE', 'ET', 'XK'], 'external_urls': {'spotify': 'https://open.spotify.com/album/6nr6Mm0lx30yZrfJbbw680'}, 'href': 'https://api.spotify.com/v1/albums/6nr6Mm0lx30yZrfJbbw680', 'id': '6nr6Mm0lx30yZrfJbbw680', 'images': [{'height': 640, 'url': 'https://i.scdn.co/image/ab67616d0000b27367a12e1d0d24543b538e7eae', 'width': 640}, {'height': 300, 'url': 'https://i.scdn.co/image/ab67616d00001e0267a12e1d0d24543b538e7eae', 'width': 300}, {'height': 64, 'url': 'https://i.scdn.co/image/ab67616d0000485167a12e1d0d24543b538e7eae', 'width': 64}], 'name': 'Window Weather', 'release_date': '2020-05-15', 'release_date_precision': 'day', 'total_tracks': 11, 'type': 'album', 'uri': 'spotify:album:6nr6Mm0lx30yZrfJbbw680'}, 'artists': [{'external_urls': {'spotify': 'https://open.spotify.com/artist/0HT4Y9hhNdkrCEE2tKokzO'}, 'href': 'https://api.spotify.com/v1/artists/0HT4Y9hhNdkrCEE2tKokzO', 'id': '0HT4Y9hhNdkrCEE2tKokzO', 'name': 'William Cas', 'type': 'artist', 'uri': 'spotify:artist:0HT4Y9hhNdkrCEE2tKokzO'}], 'available_markets': ['AR', 'AU', 'AT', 'BE', 'BO', 'BR', 'BG', 'CA', 'CL', 'CO', 'CR', 'CY', 'CZ', 'DK', 'DO', 'DE', 'EC', 'EE', 'SV', 'FI', 'FR', 'GR', 'GT', 'HN', 'HK', 'HU', 'IS', 'IE', 'IT', 'LV', 'LT', 'LU', 'MY', 'MT', 'MX', 'NL', 'NZ', 'NI', 'NO', 'PA', 'PY', 'PE', 'PH', 'PL', 'PT', 'SG', 'SK', 'ES', 'SE', 'CH', 'TW', 'TR', 'UY', 'US', 'GB', 'AD', 'LI', 'MC', 'ID', 'JP', 'TH', 'VN', 'RO', 'IL', 'ZA', 'SA', 'AE', 'BH', 'QA', 'OM', 'KW', 'EG', 'MA', 'DZ', 'TN', 'LB', 'JO', 'PS', 'IN', 'BY', 'KZ', 'MD', 'UA', 'AL', 'BA', 'HR', 'ME', 'MK', 'RS', 'SI', 'KR', 'BD', 'PK', 'LK', 'GH', 'KE', 'NG', 'TZ', 'UG', 'AG', 'AM', 'BS', 'BB', 'BZ', 'BT', 'BW', 'BF', 'CV', 'CW', 'DM', 'FJ', 'GM', 'GE', 'GD', 'GW', 'GY', 'HT', 'JM', 'KI', 'LS', 'LR', 'MW', 'MV', 'ML', 'MH', 'FM', 'NA', 'NR', 'NE', 'PW', 'PG', 'PR', 'WS', 'SM', 'ST', 'SN', 'SC', 'SL', 'SB', 'KN', 'LC', 'VC', 'SR', 'TL', 'TO', 'TT', 'TV', 'VU', 'AZ', 'BN', 'BI', 'KH', 'CM', 'TD', 'KM', 'GQ', 'SZ', 'GA', 'GN', 'KG', 'LA', 'MO', 'MR', 'MN', 'NP', 'RW', 'TG', 'UZ', 'ZW', 'BJ', 'MG', 'MU', 'MZ', 'AO', 'CI', 'DJ', 'ZM', 'CD', 'CG', 'IQ', 'LY', 'TJ', 'VE', 'ET', 'XK'], 'disc_number': 1, 'duration_ms': 196736, 'explicit': False, 'external_ids': {'isrc': 'QM24S2000797'}, 'external_urls': {'spotify': 'https://open.spotify.com/track/63JygVQGiBmLBDQD2H1XN5'}, 'href': 'https://api.spotify.com/v1/tracks/63JygVQGiBmLBDQD2H1XN5', 'id': '63JygVQGiBmLBDQD2H1XN5', 'is_local': False, 'name': 'Overcast', 'popularity': 5, 'preview_url': 'https://p.scdn.co/mp3-preview/92df14064422a76b53531527fb5440c143f91925?cid=937e2510865a4d758394db0ce9e2b2c6', 'track_number': 9, 'type': 'track', 'uri': 'spotify:track:63JygVQGiBmLBDQD2H1XN5'}\n"
     ]
    }
   ],
   "source": [
    "track_results = sp.search(q=forecast, type='track', limit=50)\n",
    "song_data = track_results['tracks']['items']\n",
    "print(song_data[10])"
   ]
  },
  {
   "cell_type": "code",
   "execution_count": 106,
   "id": "96b88c65-83c6-4cab-b3ee-1b01e54ee577",
   "metadata": {},
   "outputs": [
    {
     "name": "stdout",
     "output_type": "stream",
     "text": [
      "['spotify:track:2n2a7CG0rgXadwWtVXN21F', 'spotify:track:4JMB7StRYhP9YWrABz5mvv', 'spotify:track:3nyhumqc6usMA1R2XH9UK6', 'spotify:track:5ACLrTERL7b7JQd2ZTfMjz', 'spotify:track:386Y2BhIiL8qvQihX80F3V', 'spotify:track:0M4PcNyGDLhemL0Ro5NeFp', 'spotify:track:37aUEdbDjLJtct2sbPRYva', 'spotify:track:35xWgCIhFfnTT0FDLdbaZ1', 'spotify:track:0WOcJN6rOAsgAFTbnCze4J', 'spotify:track:0UdssF0wBtkGmbTvCCEQFZ', 'spotify:track:63JygVQGiBmLBDQD2H1XN5', 'spotify:track:5jxw7FJ2JW3qBspTHRQu2U', 'spotify:track:36eCXw0b8seSZl4KtZ2AzJ', 'spotify:track:1FbHpjJjWGwH0pYl9XFiSS', 'spotify:track:5nhKTXNuUK9gYaHIfGRSdC', 'spotify:track:1oJvrgdil8qHvqF543Upqd', 'spotify:track:1DB7sjKLuzCoIlSeRulE4Q', 'spotify:track:0YLPp1XFg20lsWOiF6kYwm', 'spotify:track:2zB0qQzvH3U8HN9zTReHZb', 'spotify:track:65o28tObh1bjqkXFaL4anY', 'spotify:track:5DcrwGaCgfhnOgX56a6rss', 'spotify:track:6LOtnTB44h2h0ujL8pivtJ', 'spotify:track:3nHrPC7I2S0nsBT2nzGJSA', 'spotify:track:2e6RYZToDNxzu9LbqiZ9sg', 'spotify:track:3imAwhFGvdTdRkavVADOIK', 'spotify:track:6EBD0lwIxgBgiUDWfJ1cvj', 'spotify:track:4Rg2G268G0g5macAixi0ni', 'spotify:track:5cYbYemspYYx4VxdTsvKYO', 'spotify:track:1Ny8RoE9nPqyM3xfMjwR81', 'spotify:track:6eT4PDHm2UNjOQDH86THOg', 'spotify:track:0nkrBnZNJtO6uwdd1tCLS9', 'spotify:track:1LAlLBTGBUO0MDA8IbSysd', 'spotify:track:4zWTya8tPMuoyDiJOLq5Vr', 'spotify:track:0wEGo9LsSrSUz9HOtraWAO', 'spotify:track:5Ko02ldO65NmVX9GBCU2uV', 'spotify:track:0ITvwZjKGEKwiw2w6t0Rco', 'spotify:track:4geJYumRsMrAChwuSWa5yR', 'spotify:track:7kcApwUclbIw9B6MuVmqPc', 'spotify:track:10ZZqCt5vg6Bwy5c21OG2z', 'spotify:track:38LydFo7ocsTU2d7Me5j8t', 'spotify:track:5b45GXKaxTKKKxAY5QOyvY', 'spotify:track:6ujJmSj0ArAHKrhLwsirGh', 'spotify:track:65NDRsNTjKcfWVhqdPJIx9', 'spotify:track:6u9YLc23CTUnGVzKNj65ou', 'spotify:track:5wI0QDFwHttWMZhIZVdHH1', 'spotify:track:5AKUFr4GmY4VSIX54hyDi9', 'spotify:track:6ShMhtk1om88amkkiUrpS9', 'spotify:track:7i2ZntdYyNmcGnptw8Dhbw', 'spotify:track:5ffdNfKHJqtFQofaL8fLCa', 'spotify:track:5fxtzPvQC8L81kEet9owJu']\n"
     ]
    }
   ],
   "source": [
    "# uniform resourse identifier\n",
    "# URIs for all the searched songs, then built playlist\n",
    "song_uris =[]\n",
    "\n",
    "for song in song_data:\n",
    "    song_uris.append(song['uri'])\n",
    "print(song_uris)"
   ]
  },
  {
   "cell_type": "code",
   "execution_count": 107,
   "id": "5176ae2b-34ff-4992-ba3b-bfb2493bc247",
   "metadata": {},
   "outputs": [
    {
     "name": "stdout",
     "output_type": "stream",
     "text": [
      "31ajvtsyyhvd6spqbdqcwpeejddy\n"
     ]
    }
   ],
   "source": [
    "print(username)"
   ]
  },
  {
   "cell_type": "code",
   "execution_count": 108,
   "id": "b97ae440-6d76-4d6d-942e-f1a6c4e2dc6f",
   "metadata": {},
   "outputs": [],
   "source": [
    "my_playlist = sp.user_playlist_create(user=username, name=forecast, public=True, description=\"Songs for the weather\")"
   ]
  },
  {
   "cell_type": "code",
   "execution_count": 109,
   "id": "9d0aba66-4c3c-43ff-8ac4-8ac1aada0290",
   "metadata": {},
   "outputs": [
    {
     "name": "stdout",
     "output_type": "stream",
     "text": [
      "{'collaborative': False, 'description': 'Songs for the weather', 'external_urls': {'spotify': 'https://open.spotify.com/playlist/14BHUIZxucaxGAtV1yw0xf'}, 'followers': {'href': None, 'total': 0}, 'href': 'https://api.spotify.com/v1/playlists/14BHUIZxucaxGAtV1yw0xf', 'id': '14BHUIZxucaxGAtV1yw0xf', 'images': [], 'primary_color': None, 'name': 'Overcast', 'type': 'playlist', 'uri': 'spotify:playlist:14BHUIZxucaxGAtV1yw0xf', 'owner': {'href': 'https://api.spotify.com/v1/users/31ajvtsyyhvd6spqbdqcwpeejddy', 'id': '31ajvtsyyhvd6spqbdqcwpeejddy', 'type': 'user', 'uri': 'spotify:user:31ajvtsyyhvd6spqbdqcwpeejddy', 'display_name': None, 'external_urls': {'spotify': 'https://open.spotify.com/user/31ajvtsyyhvd6spqbdqcwpeejddy'}}, 'public': True, 'snapshot_id': 'AAAAJ4fEzAneuqESMJfayBuQKFuWqoaf', 'tracks': {'limit': 100, 'next': None, 'offset': 0, 'previous': None, 'href': 'https://api.spotify.com/v1/playlists/14BHUIZxucaxGAtV1yw0xf/tracks', 'total': 0, 'items': []}}\n"
     ]
    }
   ],
   "source": [
    "print(my_playlist)"
   ]
  },
  {
   "cell_type": "code",
   "execution_count": 116,
   "id": "b4cefc12-34e8-4636-a878-9c52ed348fe2",
   "metadata": {},
   "outputs": [
    {
     "data": {
      "text/plain": [
       "True"
      ]
     },
     "execution_count": 116,
     "metadata": {},
     "output_type": "execute_result"
    }
   ],
   "source": [
    "sp.user_playlist_add_tracks(username, my_playlist['id'], song_uris)\n",
    "webbrowser.open(my_playlist['external_urls']['spotify'])"
   ]
  },
  {
   "cell_type": "code",
   "execution_count": null,
   "id": "3df13fb6-4838-42cc-94b8-9b3d6ade91a7",
   "metadata": {},
   "outputs": [],
   "source": []
  }
 ],
 "metadata": {
  "kernelspec": {
   "display_name": "Python 3 (ipykernel)",
   "language": "python",
   "name": "python3"
  },
  "language_info": {
   "codemirror_mode": {
    "name": "ipython",
    "version": 3
   },
   "file_extension": ".py",
   "mimetype": "text/x-python",
   "name": "python",
   "nbconvert_exporter": "python",
   "pygments_lexer": "ipython3",
   "version": "3.12.7"
  }
 },
 "nbformat": 4,
 "nbformat_minor": 5
}
